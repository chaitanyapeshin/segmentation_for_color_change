{
 "cells": [
  {
   "cell_type": "code",
   "execution_count": null,
   "id": "49cf9fe2",
   "metadata": {},
   "outputs": [],
   "source": [
    "from PIL import Image\n",
    "import os\n",
    "\n",
    "parent_folder = \"../data/raw/\"  # Replace 'parent_folder_name' with the actual name of the parent folder\n",
    "input_folder = os.path.join(parent_folder, \"train_masks\")\n",
    "output_folder = os.path.join(parent_folder, \"train_masks_jpg\")\n",
    "\n",
    "print(input_folder)\n",
    "print(output_folder)"
   ]
  },
  {
   "cell_type": "code",
   "execution_count": null,
   "id": "d1f7d096-c491-4b79-87bf-a1dc472e98dd",
   "metadata": {
    "scrolled": true
   },
   "outputs": [],
   "source": [
    "from PIL import Image\n",
    "import os\n",
    "\n",
    "parent_folder = \"../data/raw/\"\n",
    "input_folder = os.path.join(parent_folder, \"train_masks\")\n",
    "output_folder = os.path.join(parent_folder, \"train_masks_jpg\")\n",
    "\n",
    "# Create the output folder if it doesn't exist\n",
    "if not os.path.exists(output_folder):\n",
    "    os.makedirs(output_folder)\n",
    "\n",
    "# List all files in the input folder\n",
    "for filename in os.listdir(input_folder):\n",
    "    if filename.lower().endswith(\".gif\"):\n",
    "        gif_path = os.path.join(input_folder, filename)\n",
    "        img = Image.open(gif_path)\n",
    "\n",
    "        # Convert to RGB mode if the image is in palette mode\n",
    "        if img.mode == 'P':\n",
    "            img = img.convert('RGB')\n",
    "\n",
    "        # Convert and save as a JPG image\n",
    "        jpg_path = os.path.join(output_folder, os.path.splitext(filename)[0] + \".jpg\")\n",
    "        img.save(jpg_path, \"JPEG\")\n",
    "\n",
    "        print(f\"Converted {gif_path} to {jpg_path}\")\n",
    "\n",
    "print(\"Conversion complete.\")\n"
   ]
  },
  {
   "cell_type": "code",
   "execution_count": null,
   "id": "d4b1d7ca-a22b-46d6-8f01-c2802532fca4",
   "metadata": {
    "scrolled": true
   },
   "outputs": [],
   "source": [
    "import os\n",
    "import pandas as pd\n",
    "import shutil\n",
    "\n",
    "# Paths to the CSV file and image folders\n",
    "parent_folder = \"../data/processed/\"\n",
    "\n",
    "csv_file_path = os.path.join(parent_folder, \"train_masks_small.csv\")\n",
    "image_folder = os.path.join(parent_folder, \"train_small\")\n",
    "mask_folder = os.path.join(parent_folder, \"train_masks_jpg_small\")\n",
    "\n",
    "# Load the CSV file into a DataFrame\n",
    "data = pd.read_csv(csv_file_path)\n",
    "\n",
    "# Calculate the index where you want to split the data\n",
    "split_index = len(data) // 2\n",
    "\n",
    "# Get the list of image names to remove\n",
    "images_to_remove = data['img'][split_index:].tolist()\n",
    "\n",
    "# Remove images and corresponding rows from the DataFrame\n",
    "data = data.iloc[:split_index]\n",
    "\n",
    "# Save the updated DataFrame back to the CSV file\n",
    "data.to_csv(csv_file_path, index=False)\n",
    "\n",
    "# Remove images and masks from the folders\n",
    "for image_name in images_to_remove:\n",
    "    image_path = os.path.join(image_folder, image_name) + ''\n",
    "    mask_name = image_name.replace(\".jpg\", \"_mask.jpg\")  # Get the corresponding mask name\n",
    "    mask_path = os.path.join(mask_folder, mask_name)\n",
    "    \n",
    "    if os.path.exists(image_path):\n",
    "        os.remove(image_path)\n",
    "        print(f\"Removed {image_path}\")\n",
    "    \n",
    "    if os.path.exists(mask_path):\n",
    "        os.remove(mask_path)\n",
    "        print(f\"Removed {mask_path}\")\n",
    "\n",
    "print(\"Processing complete.\")\n"
   ]
  },
  {
   "cell_type": "code",
   "execution_count": null,
   "id": "21077b5d-73fe-454c-a041-59476d87c0a0",
   "metadata": {},
   "outputs": [],
   "source": []
  }
 ],
 "metadata": {
  "kernelspec": {
   "display_name": "Python 3 (ipykernel)",
   "language": "python",
   "name": "python3"
  },
  "language_info": {
   "codemirror_mode": {
    "name": "ipython",
    "version": 3
   },
   "file_extension": ".py",
   "mimetype": "text/x-python",
   "name": "python",
   "nbconvert_exporter": "python",
   "pygments_lexer": "ipython3",
   "version": "3.11.7"
  }
 },
 "nbformat": 4,
 "nbformat_minor": 5
}
